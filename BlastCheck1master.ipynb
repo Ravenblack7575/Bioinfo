{
 "cells": [
  {
   "cell_type": "markdown",
   "metadata": {},
   "source": [
    "This notebook aids in the analysis of blast results. \n",
    "Its function is to give you list of targets that the primers and probe (one assay) can pick up.\n",
    "\n",
    "It does this by:\n",
    "1. Concat For, Rev and Probe blastn results. \n",
    "2. Look for the specific target using keywords.\n",
    "3. Check to see if the specified targets can be picked up.\n",
    "\n",
    "At the end of it, it makes a list and produces a csv file containing a list of accession numbers and strain names that the assay can pick up.\n",
    "\n",
    "\n",
    "How to use:\n",
    "\n",
    "Perform Blastn on primer forward, primer reverse, probe, save your results for each in its own csv file.\n",
    "\n",
    "Be sure to cleanup the file so that it contains only the following columns:\n",
    "(It's ok to leave column names in the first row. Please see example file)\n",
    "\n",
    "1. Description\n",
    "2. Max Score\n",
    "3. Total Score\n",
    "4. Query Cover\n",
    "5. E value\n",
    "6. Per. Ident\n",
    "7. Accession\n",
    "\n",
    "Then proceed to use this notebook to retrieve the strains and accession numbers picked up by assay. Remember to use the right path to your files,\n",
    "and name your output file as you like it.\n",
    "\n",
    "Types of files processed: CSV files\n",
    "Python version: 3.7.1\n",
    "Developed on: Jupyter Lab 0.35.6 [24 Jun 2019]\n"
   ]
  },
  {
   "cell_type": "code",
   "execution_count": null,
   "metadata": {},
   "outputs": [],
   "source": [
    "#import packages\n",
    "\n",
    "import pathlib\n",
    "import os\n",
    "import csv\n",
    "import pandas as pd\n"
   ]
  },
  {
   "cell_type": "code",
   "execution_count": null,
   "metadata": {},
   "outputs": [],
   "source": [
    "#Get files\n",
    "\n",
    "for_file = pd.read_csv(r'C:\\Users\\EASlim\\BlastN\\BLASTNR_290519/_For.csv')\n",
    "for_file = for_file.add_suffix('_F')\n",
    "\n",
    "rev_file = pd.read_csv(r'C:\\Users\\EASlim\\BlastN\\BLASTNR_290519/_Rev.csv')\n",
    "rev_file = rev_file.add_suffix('_R')\n",
    "\n",
    "p_file = pd.read_csv(r'C:\\Users\\EASlim\\BlastN\\BLASTNR_290519/_P.csv')\n",
    "p_file = p_file.add_suffix('_P')\n"
   ]
  },
  {
   "cell_type": "code",
   "execution_count": null,
   "metadata": {},
   "outputs": [],
   "source": [
    "#concat files\n",
    "\n",
    "combined = pd.concat([for_file, rev_file, p_file], axis=1 )\n",
    "\n",
    "#combined.head()"
   ]
  },
  {
   "cell_type": "code",
   "execution_count": null,
   "metadata": {},
   "outputs": [],
   "source": [
    "combined.columns = combined.columns.str.replace('.','').str.replace(':','').str.replace(' ', '_').str.lower()"
   ]
  },
  {
   "cell_type": "code",
   "execution_count": null,
   "metadata": {},
   "outputs": [],
   "source": [
    "#combined.head()"
   ]
  },
  {
   "cell_type": "markdown",
   "metadata": {},
   "source": [
    "## Finding unique accession number or unique strain names."
   ]
  },
  {
   "cell_type": "markdown",
   "metadata": {},
   "source": [
    "Base the unique accession number on the probe, since if the probe does not bind, it does not matter in the end if the forward \n",
    "and reverse primers bind which more often, they do. \n",
    "\n",
    "1. Extract unique number in the primer accession column\n",
    "2. Compare to see if they exist in the for and rev accession columns"
   ]
  },
  {
   "cell_type": "code",
   "execution_count": null,
   "metadata": {},
   "outputs": [],
   "source": [
    "list_unique_p = []\n",
    "\n",
    "for num in combined['accession_p']:\n",
    "    if num not in list_unique_p:\n",
    "        list_unique_p.append(num)"
   ]
  },
  {
   "cell_type": "code",
   "execution_count": null,
   "metadata": {},
   "outputs": [],
   "source": [
    "print(list_unique_p[:10])"
   ]
  },
  {
   "cell_type": "code",
   "execution_count": null,
   "metadata": {},
   "outputs": [],
   "source": [
    "list_unique_f = []\n",
    "\n",
    "for num in combined['accession_f']:\n",
    "    if num not in list_unique_f:\n",
    "        list_unique_f.append(num)"
   ]
  },
  {
   "cell_type": "code",
   "execution_count": null,
   "metadata": {},
   "outputs": [],
   "source": [
    "list_unique_r = []\n",
    "\n",
    "for num in combined['accession_r']:\n",
    "    if num not in list_unique_r:\n",
    "        list_unique_r.append(num)"
   ]
  },
  {
   "cell_type": "code",
   "execution_count": null,
   "metadata": {},
   "outputs": [],
   "source": [
    "all_3 = []\n",
    "\n",
    "for target in list_unique_p:\n",
    "    if target in list_unique_f and target in list_unique_r:\n",
    "        all_3.append(target)"
   ]
  },
  {
   "cell_type": "code",
   "execution_count": null,
   "metadata": {},
   "outputs": [],
   "source": [
    "print(all_3[:10])"
   ]
  },
  {
   "cell_type": "markdown",
   "metadata": {},
   "source": [
    "## Retrieve corresponding names of targets using found accession numbers"
   ]
  },
  {
   "cell_type": "markdown",
   "metadata": {},
   "source": [
    "Take the all_3 list, compare it to the items in the table and retrieve a list of strains that the all 3 oligos will bind to, thus confirming\n",
    "the assay picks up these strains. "
   ]
  },
  {
   "cell_type": "markdown",
   "metadata": {},
   "source": [
    "Use example:\n",
    "\n",
    "combined.loc[combined['accession_p'] == 'MH045846.1', 'description_p'].iloc[0]"
   ]
  },
  {
   "cell_type": "code",
   "execution_count": null,
   "metadata": {},
   "outputs": [],
   "source": [
    "target_list = []\n",
    "\n",
    "for x in all_3:\n",
    "    item = combined.loc[combined['accession_p'] == x, 'description_p'].iloc[0]\n",
    "    target_list.append(item)"
   ]
  },
  {
   "cell_type": "code",
   "execution_count": null,
   "metadata": {},
   "outputs": [],
   "source": [
    "#for item in target_list:\n",
    "#   print(item)"
   ]
  },
  {
   "cell_type": "markdown",
   "metadata": {},
   "source": [
    "## Create list and export as a csv file"
   ]
  },
  {
   "cell_type": "code",
   "execution_count": null,
   "metadata": {},
   "outputs": [],
   "source": [
    "d = {'accession_nums': all_3, 'target': target_list}\n",
    "\n",
    "Target_List = pd.DataFrame(d, columns=['accession_nums','target']) "
   ]
  },
  {
   "cell_type": "code",
   "execution_count": null,
   "metadata": {},
   "outputs": [],
   "source": [
    "Target_List.head()"
   ]
  },
  {
   "cell_type": "code",
   "execution_count": null,
   "metadata": {},
   "outputs": [],
   "source": [
    "Target_List.to_csv('.csv', index=False, encoding='utf-8')  #we can name the file as we like."
   ]
  }
 ],
 "metadata": {
  "kernelspec": {
   "display_name": "Python 3",
   "language": "python",
   "name": "python3"
  },
  "language_info": {
   "codemirror_mode": {
    "name": "ipython",
    "version": 3
   },
   "file_extension": ".py",
   "mimetype": "text/x-python",
   "name": "python",
   "nbconvert_exporter": "python",
   "pygments_lexer": "ipython3",
   "version": "3.7.2"
  }
 },
 "nbformat": 4,
 "nbformat_minor": 2
}
